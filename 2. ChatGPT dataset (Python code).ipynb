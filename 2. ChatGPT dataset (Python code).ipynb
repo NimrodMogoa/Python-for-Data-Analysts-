{
 "cells": [
  {
   "cell_type": "markdown",
   "metadata": {},
   "source": [
    "## Hypothesis"
   ]
  },
  {
   "cell_type": "markdown",
   "metadata": {},
   "source": [
    "As concerns about data privacy and management continue to grow, we expect that the addition of **chat history management** features in release **1.2023.23** has been well-received. This is likely to lead to a significant change in user sentiment in reviews specifically addressing data privacy."
   ]
  },
  {
   "cell_type": "markdown",
   "metadata": {},
   "source": [
    "## Background on Data \n"
   ]
  },
  {
   "cell_type": "markdown",
   "metadata": {},
   "source": [
    "The data to be used for this project comprises two primary sources:\n",
    "\n",
    "1. **Release Log Data (`release_log.csv`):** This data, which provides version logs of the ChatGPT App from the Apple App Store, is publicly available at [Apple's App Store](https://apps.apple.com/us/app/chatgpt/id6448311069). It provides context about the evolution of the app, the introduction of features, and the timing of these changes.\n",
    "\n",
    "2. **ChatGPT App Reviews Data (`chatgpt_reviews.csv`):** This dataset is a comprehensive collection of user reviews for the ChatGPT App on iOS, available on [Kaggle](https://www.kaggle.com/datasets/saloni1712/chatgpt-app-reviews/download?datasetVersionNumber=1). The dataset provides valuable insights into user satisfaction, app performance, and emerging patterns. It is this dataset that will be used to determine sentiment changes in response to the chat history management feature's introduction.\n",
    "\n",
    "The method of data collection involved scraping ChatGPT reviews on the App Store. This process allowed us to gather a rich set of user opinions, concerns, and praises, serving as a valuable resource in assessing the reaction to the app's evolution and specific feature updates.\n"
   ]
  },
  {
   "cell_type": "markdown",
   "metadata": {},
   "source": [
    "# Exercise 1:\n",
    "## - Libraries and random seed\n",
    "## - Create a relative path to import both datasets"
   ]
  },
  {
   "cell_type": "code",
   "execution_count": 1,
   "metadata": {},
   "outputs": [],
   "source": [
    "# Ignore warnings\n",
    "import warnings\n",
    "warnings.filterwarnings(\"ignore\")  # This is to ignore any warnings that might pop up during execution\n",
    "\n",
    "\n",
    "# Basic libraries to manipulate data\n",
    "import matplotlib.pyplot as plt  # Matplotlib for data visualization\n",
    "import numpy as np  # Numpy for numerical computations\n",
    "import pandas as pd  # Pandas for data manipulation\n",
    "\n",
    "np.random.seed(42) # To ensure all the probabilistic things are reproducible"
   ]
  },
  {
   "cell_type": "markdown",
   "metadata": {},
   "source": [
    "# Basic characteristics of the datasets\n"
   ]
  },
  {
   "cell_type": "code",
   "execution_count": 2,
   "metadata": {},
   "outputs": [],
   "source": [
    "# Specify the path to the datasets\n",
    "data_path = \"./data/\"\n",
    "\n",
    "# Specify the filenames of the datasets\n",
    "release_log_filename = \"release_log.csv\"\n",
    "reviews_filename = \"chatgpt_reviews.csv\"\n",
    "\n",
    "# Read the CSV files and create backup copies\n",
    "backup_release_log = pd.read_csv(data_path + release_log_filename)\n",
    "backup_reviews = pd.read_csv(data_path + reviews_filename)\n",
    "\n",
    "# Create working copies of the dataframes to perform analysis\n",
    "release_log_df = backup_release_log.copy()\n",
    "reviews_df = backup_reviews.copy()\n"
   ]
  },
  {
   "cell_type": "markdown",
   "metadata": {},
   "source": [
    "# Exercise 2:\n",
    "## - Check basic information of release_log_df dataset \n",
    "## - Extract the year from \"release_date\" being an \"object\"\n",
    "## - Convert it to datetime format and extract the year being a \"datetime\""
   ]
  },
  {
   "cell_type": "markdown",
   "metadata": {},
   "source": [
    "We will do the analysis separately so we begin with the smallest dataset\n",
    "\n",
    "## release_log_df"
   ]
  },
  {
   "cell_type": "markdown",
   "metadata": {},
   "source": [
    "Since the `release_log_df` dataset is very small, we can print it all out to see if there is something that jumps out to us.\n",
    "\n",
    "A few things to notice:\n",
    "- The `release` column is unique, so it can be used as a key identifier. We'll come back to this later on.\n",
    "- The `release_commentary` column sometimes has a dot at the beginning, and sometimes it doesn't. We'll fix this in the text preprocessing.\n"
   ]
  },
  {
   "cell_type": "code",
   "execution_count": 4,
   "metadata": {},
   "outputs": [
    {
     "data": {
      "text/html": [
       "<div>\n",
       "<style scoped>\n",
       "    .dataframe tbody tr th:only-of-type {\n",
       "        vertical-align: middle;\n",
       "    }\n",
       "\n",
       "    .dataframe tbody tr th {\n",
       "        vertical-align: top;\n",
       "    }\n",
       "\n",
       "    .dataframe thead th {\n",
       "        text-align: right;\n",
       "    }\n",
       "</style>\n",
       "<table border=\"1\" class=\"dataframe\">\n",
       "  <thead>\n",
       "    <tr style=\"text-align: right;\">\n",
       "      <th></th>\n",
       "      <th>release</th>\n",
       "      <th>release_date</th>\n",
       "      <th>release_commentary</th>\n",
       "    </tr>\n",
       "  </thead>\n",
       "  <tbody>\n",
       "    <tr>\n",
       "      <th>0</th>\n",
       "      <td>1.2023.159</td>\n",
       "      <td>2023-06-12</td>\n",
       "      <td>· Shared Links: Share your chats with others. ...</td>\n",
       "    </tr>\n",
       "    <tr>\n",
       "      <th>1</th>\n",
       "      <td>1.2023.152</td>\n",
       "      <td>2023-06-08</td>\n",
       "      <td>· iPad Compatibility: The app now takes advant...</td>\n",
       "    </tr>\n",
       "    <tr>\n",
       "      <th>2</th>\n",
       "      <td>1.2023.23</td>\n",
       "      <td>2023-05-25</td>\n",
       "      <td>· Improved Right-to-Left Language Support: Res...</td>\n",
       "    </tr>\n",
       "    <tr>\n",
       "      <th>3</th>\n",
       "      <td>1.2023.22</td>\n",
       "      <td>2023-05-24</td>\n",
       "      <td>· Enhanced Voice Input: You can now customize ...</td>\n",
       "    </tr>\n",
       "    <tr>\n",
       "      <th>4</th>\n",
       "      <td>1.2023.21</td>\n",
       "      <td>2023-05-19</td>\n",
       "      <td>This update of the ChatGPT app brings the foll...</td>\n",
       "    </tr>\n",
       "    <tr>\n",
       "      <th>5</th>\n",
       "      <td>1.2023.20</td>\n",
       "      <td>2023-05-18</td>\n",
       "      <td>First Release.</td>\n",
       "    </tr>\n",
       "  </tbody>\n",
       "</table>\n",
       "</div>"
      ],
      "text/plain": [
       "      release release_date                                 release_commentary\n",
       "0  1.2023.159   2023-06-12  · Shared Links: Share your chats with others. ...\n",
       "1  1.2023.152   2023-06-08  · iPad Compatibility: The app now takes advant...\n",
       "2   1.2023.23   2023-05-25  · Improved Right-to-Left Language Support: Res...\n",
       "3   1.2023.22   2023-05-24  · Enhanced Voice Input: You can now customize ...\n",
       "4   1.2023.21   2023-05-19  This update of the ChatGPT app brings the foll...\n",
       "5   1.2023.20   2023-05-18                                     First Release."
      ]
     },
     "execution_count": 4,
     "metadata": {},
     "output_type": "execute_result"
    }
   ],
   "source": [
    "release_log_df"
   ]
  },
  {
   "cell_type": "markdown",
   "metadata": {},
   "source": [
    "We can continue characterizing our datasets using `info`"
   ]
  },
  {
   "cell_type": "code",
   "execution_count": 5,
   "metadata": {},
   "outputs": [
    {
     "name": "stdout",
     "output_type": "stream",
     "text": [
      "<class 'pandas.core.frame.DataFrame'>\n",
      "RangeIndex: 6 entries, 0 to 5\n",
      "Data columns (total 3 columns):\n",
      " #   Column              Non-Null Count  Dtype \n",
      "---  ------              --------------  ----- \n",
      " 0   release             6 non-null      object\n",
      " 1   release_date        6 non-null      object\n",
      " 2   release_commentary  6 non-null      object\n",
      "dtypes: object(3)\n",
      "memory usage: 272.0+ bytes\n"
     ]
    }
   ],
   "source": [
    "release_log_df.info()"
   ]
  },
  {
   "cell_type": "markdown",
   "metadata": {},
   "source": [
    "As seen in the previous table, the column `release_date` has an object dtype, indicating that all its values are strings containing dates. This isn't an efficient way to store data, as shown in the next cell."
   ]
  },
  {
   "cell_type": "code",
   "execution_count": 20,
   "metadata": {},
   "outputs": [
    {
     "data": {
      "text/plain": [
       "0    2023\n",
       "1    2023\n",
       "2    2023\n",
       "3    2023\n",
       "4    2023\n",
       "5    2023\n",
       "Name: release_date, dtype: object"
      ]
     },
     "execution_count": 20,
     "metadata": {},
     "output_type": "execute_result"
    }
   ],
   "source": [
    "# Extracting the year from a string column (release_date)\n",
    "release_log_df['release_date'].str.split('-').str.get(0)"
   ]
  },
  {
   "cell_type": "markdown",
   "metadata": {},
   "source": [
    "This is not to mention that dates can sometimes be in various distinct formats, such as `2023/09/21`, where the previous expression wouldn't capture all the years.\n",
    "\n",
    "Now, we transform the column to a datetime type and retrieve the year more straightforwardly. While it might seem simple in this example, the challenge of differently formatted dates persists. Converting it to a consistent format is generally advisable, as the time it takes for a column to be preprocessed is usually much smaller than the time this conversion will save us."
   ]
  },
  {
   "cell_type": "code",
   "execution_count": 21,
   "metadata": {},
   "outputs": [
    {
     "data": {
      "text/plain": [
       "0    2023\n",
       "1    2023\n",
       "2    2023\n",
       "3    2023\n",
       "4    2023\n",
       "5    2023\n",
       "Name: release_date, dtype: int64"
      ]
     },
     "execution_count": 21,
     "metadata": {},
     "output_type": "execute_result"
    }
   ],
   "source": [
    "# Using datetime datatype to extract the year\n",
    "pd.to_datetime(release_log_df['release_date']).dt.year"
   ]
  },
  {
   "cell_type": "code",
   "execution_count": 22,
   "metadata": {},
   "outputs": [
    {
     "data": {
      "text/plain": [
       "dtype('O')"
      ]
     },
     "execution_count": 22,
     "metadata": {},
     "output_type": "execute_result"
    }
   ],
   "source": [
    "# Checking the datatype of the 'release_date' column\n",
    "release_log_df['release_date'].values.dtype"
   ]
  },
  {
   "cell_type": "code",
   "execution_count": 23,
   "metadata": {},
   "outputs": [
    {
     "data": {
      "text/plain": [
       "release               object\n",
       "release_date          object\n",
       "release_commentary    object\n",
       "dtype: object"
      ]
     },
     "execution_count": 23,
     "metadata": {},
     "output_type": "execute_result"
    }
   ],
   "source": [
    "# We can also find it's dtype directly accessing the df's property\n",
    "release_log_df.dtypes"
   ]
  },
  {
   "cell_type": "markdown",
   "metadata": {},
   "source": [
    "To make the change persistent we need to assign it to the previous data frame"
   ]
  },
  {
   "cell_type": "code",
   "execution_count": 24,
   "metadata": {},
   "outputs": [
    {
     "data": {
      "text/plain": [
       "release                       object\n",
       "release_date          datetime64[ns]\n",
       "release_commentary            object\n",
       "dtype: object"
      ]
     },
     "execution_count": 24,
     "metadata": {},
     "output_type": "execute_result"
    }
   ],
   "source": [
    "release_log_df['release_date']=pd.to_datetime(release_log_df['release_date'])\n",
    "release_log_df.dtypes"
   ]
  },
  {
   "cell_type": "code",
   "execution_count": null,
   "metadata": {},
   "outputs": [],
   "source": [
    "# Extraction of the year once it is in datetime format\n",
    "release_log_df['release_date'].dt.year"
   ]
  },
  {
   "cell_type": "code",
   "execution_count": null,
   "metadata": {},
   "outputs": [],
   "source": [
    "# Creating a new variable of year\n",
    "release_log_df['year']=release_log_df['release_date'].dt.year"
   ]
  },
  {
   "cell_type": "code",
   "execution_count": null,
   "metadata": {},
   "outputs": [],
   "source": [
    "release_log_df.info()"
   ]
  }
 ],
 "metadata": {
  "kernelspec": {
   "display_name": "Python 3 (ipykernel)",
   "language": "python",
   "name": "python3"
  },
  "language_info": {
   "codemirror_mode": {
    "name": "ipython",
    "version": 3
   },
   "file_extension": ".py",
   "mimetype": "text/x-python",
   "name": "python",
   "nbconvert_exporter": "python",
   "pygments_lexer": "ipython3",
   "version": "3.9.7"
  }
 },
 "nbformat": 4,
 "nbformat_minor": 2
}
