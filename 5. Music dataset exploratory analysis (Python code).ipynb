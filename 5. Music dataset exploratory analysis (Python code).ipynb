{
 "cells": [
  {
   "cell_type": "code",
   "execution_count": 1,
   "id": "5be3a6f8",
   "metadata": {},
   "outputs": [],
   "source": [
    "# Import libraries (copy from Syllabus)\n",
    "import warnings\n",
    "warnings.filterwarnings(\"ignore\")\n",
    "import matplotlib.pyplot as plt\n",
    "import numpy as np \n",
    "import pandas as pd\n",
    "import plotly.express as px\n",
    "import seaborn as sns\n",
    "from scipy import stats\n",
    "\n",
    "from sklearn.linear_model import LinearRegression\n",
    "from sklearn.linear_model import LogisticRegression\n",
    "from sklearn.preprocessing import PolynomialFeatures\n",
    "from sklearn.model_selection import train_test_split\n",
    "from sklearn.metrics import mean_squared_error\n",
    "from sklearn.metrics import classification_report, confusion_matrix\n",
    "from sklearn.preprocessing import LabelEncoder\n",
    "\n",
    "np.random.seed(42)"
   ]
  },
  {
   "cell_type": "code",
   "execution_count": 2,
   "id": "60df1201",
   "metadata": {},
   "outputs": [],
   "source": [
    "# Import data types file\n",
    "types = pd.read_csv('./data/dtypes_survey_music_clean.csv', \n",
    "                    index_col=0).to_dict()['0']"
   ]
  },
  {
   "cell_type": "code",
   "execution_count": 3,
   "id": "53d5fbd5",
   "metadata": {},
   "outputs": [],
   "source": [
    "# Import dataset\n",
    "survey_df = pd.read_csv('./data/survey_music_clean.csv')\n",
    "\n",
    "for col, dtype in types.items():\n",
    "    survey_df[col] = survey_df[col].astype(dtype)"
   ]
  },
  {
   "cell_type": "code",
   "execution_count": 4,
   "id": "312ec1ed",
   "metadata": {},
   "outputs": [
    {
     "name": "stdout",
     "output_type": "stream",
     "text": [
      "<class 'pandas.core.frame.DataFrame'>\n",
      "RangeIndex: 724 entries, 0 to 723\n",
      "Data columns (total 33 columns):\n",
      " #   Column                        Non-Null Count  Dtype         \n",
      "---  ------                        --------------  -----         \n",
      " 0   Timestamp                     724 non-null    datetime64[ns]\n",
      " 1   Age                           724 non-null    float64       \n",
      " 2   Primary streaming service     724 non-null    category      \n",
      " 3   Hours per day                 724 non-null    float64       \n",
      " 4   While working                 724 non-null    category      \n",
      " 5   Instrumentalist               724 non-null    category      \n",
      " 6   Composer                      724 non-null    category      \n",
      " 7   Fav genre                     724 non-null    category      \n",
      " 8   Exploratory                   724 non-null    category      \n",
      " 9   Foreign languages             724 non-null    category      \n",
      " 10  BPM                           724 non-null    float64       \n",
      " 11  Frequency [Classical]         724 non-null    float64       \n",
      " 12  Frequency [Country]           724 non-null    float64       \n",
      " 13  Frequency [EDM]               724 non-null    float64       \n",
      " 14  Frequency [Folk]              724 non-null    float64       \n",
      " 15  Frequency [Gospel]            724 non-null    float64       \n",
      " 16  Frequency [Hip hop]           724 non-null    float64       \n",
      " 17  Frequency [Jazz]              724 non-null    float64       \n",
      " 18  Frequency [K pop]             724 non-null    float64       \n",
      " 19  Frequency [Latin]             724 non-null    float64       \n",
      " 20  Frequency [Lofi]              724 non-null    float64       \n",
      " 21  Frequency [Metal]             724 non-null    float64       \n",
      " 22  Frequency [Pop]               724 non-null    float64       \n",
      " 23  Frequency [R&B]               724 non-null    float64       \n",
      " 24  Frequency [Rap]               724 non-null    float64       \n",
      " 25  Frequency [Rock]              724 non-null    float64       \n",
      " 26  Frequency [Video game music]  724 non-null    float64       \n",
      " 27  Anxiety                       724 non-null    float64       \n",
      " 28  Depression                    724 non-null    float64       \n",
      " 29  Insomnia                      724 non-null    float64       \n",
      " 30  OCD                           724 non-null    float64       \n",
      " 31  Music effects                 724 non-null    category      \n",
      " 32  Permissions                   724 non-null    category      \n",
      "dtypes: category(9), datetime64[ns](1), float64(23)\n",
      "memory usage: 144.0 KB\n"
     ]
    }
   ],
   "source": [
    "# Validation of data types\n",
    "survey_df.info()"
   ]
  },
  {
   "cell_type": "code",
   "execution_count": 5,
   "id": "5f1feba0",
   "metadata": {},
   "outputs": [
    {
     "data": {
      "text/html": [
       "<div>\n",
       "<style scoped>\n",
       "    .dataframe tbody tr th:only-of-type {\n",
       "        vertical-align: middle;\n",
       "    }\n",
       "\n",
       "    .dataframe tbody tr th {\n",
       "        vertical-align: top;\n",
       "    }\n",
       "\n",
       "    .dataframe thead th {\n",
       "        text-align: right;\n",
       "    }\n",
       "</style>\n",
       "<table border=\"1\" class=\"dataframe\">\n",
       "  <thead>\n",
       "    <tr style=\"text-align: right;\">\n",
       "      <th></th>\n",
       "      <th>Timestamp</th>\n",
       "      <th>Age</th>\n",
       "      <th>Primary streaming service</th>\n",
       "      <th>Hours per day</th>\n",
       "      <th>While working</th>\n",
       "      <th>Instrumentalist</th>\n",
       "      <th>Composer</th>\n",
       "      <th>Fav genre</th>\n",
       "      <th>Exploratory</th>\n",
       "      <th>Foreign languages</th>\n",
       "      <th>...</th>\n",
       "      <th>Frequency [R&amp;B]</th>\n",
       "      <th>Frequency [Rap]</th>\n",
       "      <th>Frequency [Rock]</th>\n",
       "      <th>Frequency [Video game music]</th>\n",
       "      <th>Anxiety</th>\n",
       "      <th>Depression</th>\n",
       "      <th>Insomnia</th>\n",
       "      <th>OCD</th>\n",
       "      <th>Music effects</th>\n",
       "      <th>Permissions</th>\n",
       "    </tr>\n",
       "  </thead>\n",
       "  <tbody>\n",
       "    <tr>\n",
       "      <th>326</th>\n",
       "      <td>2022-08-29 03:13:27</td>\n",
       "      <td>20.0</td>\n",
       "      <td>apple music</td>\n",
       "      <td>3.0</td>\n",
       "      <td>yes</td>\n",
       "      <td>yes</td>\n",
       "      <td>no</td>\n",
       "      <td>metal</td>\n",
       "      <td>yes</td>\n",
       "      <td>no</td>\n",
       "      <td>...</td>\n",
       "      <td>0.0</td>\n",
       "      <td>1.0</td>\n",
       "      <td>3.0</td>\n",
       "      <td>2.0</td>\n",
       "      <td>7.0</td>\n",
       "      <td>4.0</td>\n",
       "      <td>7.0</td>\n",
       "      <td>0.0</td>\n",
       "      <td>improve</td>\n",
       "      <td>i understand.</td>\n",
       "    </tr>\n",
       "    <tr>\n",
       "      <th>518</th>\n",
       "      <td>2022-08-29 03:44:33</td>\n",
       "      <td>21.0</td>\n",
       "      <td>spotify</td>\n",
       "      <td>3.0</td>\n",
       "      <td>yes</td>\n",
       "      <td>no</td>\n",
       "      <td>no</td>\n",
       "      <td>hip hop</td>\n",
       "      <td>yes</td>\n",
       "      <td>yes</td>\n",
       "      <td>...</td>\n",
       "      <td>3.0</td>\n",
       "      <td>3.0</td>\n",
       "      <td>3.0</td>\n",
       "      <td>0.0</td>\n",
       "      <td>8.0</td>\n",
       "      <td>8.0</td>\n",
       "      <td>3.0</td>\n",
       "      <td>3.0</td>\n",
       "      <td>improve</td>\n",
       "      <td>i understand.</td>\n",
       "    </tr>\n",
       "    <tr>\n",
       "      <th>554</th>\n",
       "      <td>2022-08-28 18:33:32</td>\n",
       "      <td>32.0</td>\n",
       "      <td>spotify</td>\n",
       "      <td>3.0</td>\n",
       "      <td>yes</td>\n",
       "      <td>yes</td>\n",
       "      <td>yes</td>\n",
       "      <td>rock</td>\n",
       "      <td>yes</td>\n",
       "      <td>yes</td>\n",
       "      <td>...</td>\n",
       "      <td>3.0</td>\n",
       "      <td>1.0</td>\n",
       "      <td>3.0</td>\n",
       "      <td>1.0</td>\n",
       "      <td>6.0</td>\n",
       "      <td>6.0</td>\n",
       "      <td>7.0</td>\n",
       "      <td>5.0</td>\n",
       "      <td>improve</td>\n",
       "      <td>i understand.</td>\n",
       "    </tr>\n",
       "    <tr>\n",
       "      <th>33</th>\n",
       "      <td>2022-08-28 18:35:17</td>\n",
       "      <td>21.0</td>\n",
       "      <td>i do not use a streaming service.</td>\n",
       "      <td>3.0</td>\n",
       "      <td>yes</td>\n",
       "      <td>no</td>\n",
       "      <td>no</td>\n",
       "      <td>rock</td>\n",
       "      <td>no</td>\n",
       "      <td>no</td>\n",
       "      <td>...</td>\n",
       "      <td>1.0</td>\n",
       "      <td>2.0</td>\n",
       "      <td>3.0</td>\n",
       "      <td>3.0</td>\n",
       "      <td>9.0</td>\n",
       "      <td>10.0</td>\n",
       "      <td>3.0</td>\n",
       "      <td>0.0</td>\n",
       "      <td>no effect</td>\n",
       "      <td>i understand.</td>\n",
       "    </tr>\n",
       "    <tr>\n",
       "      <th>375</th>\n",
       "      <td>2022-09-04 15:41:59</td>\n",
       "      <td>16.0</td>\n",
       "      <td>spotify</td>\n",
       "      <td>7.0</td>\n",
       "      <td>yes</td>\n",
       "      <td>no</td>\n",
       "      <td>no</td>\n",
       "      <td>video game music</td>\n",
       "      <td>yes</td>\n",
       "      <td>no</td>\n",
       "      <td>...</td>\n",
       "      <td>0.0</td>\n",
       "      <td>3.0</td>\n",
       "      <td>1.0</td>\n",
       "      <td>2.0</td>\n",
       "      <td>4.0</td>\n",
       "      <td>8.0</td>\n",
       "      <td>8.0</td>\n",
       "      <td>4.0</td>\n",
       "      <td>no effect</td>\n",
       "      <td>i understand.</td>\n",
       "    </tr>\n",
       "  </tbody>\n",
       "</table>\n",
       "<p>5 rows × 33 columns</p>\n",
       "</div>"
      ],
      "text/plain": [
       "              Timestamp   Age          Primary streaming service  \\\n",
       "326 2022-08-29 03:13:27  20.0                        apple music   \n",
       "518 2022-08-29 03:44:33  21.0                            spotify   \n",
       "554 2022-08-28 18:33:32  32.0                            spotify   \n",
       "33  2022-08-28 18:35:17  21.0  i do not use a streaming service.   \n",
       "375 2022-09-04 15:41:59  16.0                            spotify   \n",
       "\n",
       "     Hours per day While working Instrumentalist Composer         Fav genre  \\\n",
       "326            3.0           yes             yes       no             metal   \n",
       "518            3.0           yes              no       no           hip hop   \n",
       "554            3.0           yes             yes      yes              rock   \n",
       "33             3.0           yes              no       no              rock   \n",
       "375            7.0           yes              no       no  video game music   \n",
       "\n",
       "    Exploratory Foreign languages  ...  Frequency [R&B]  Frequency [Rap]  \\\n",
       "326         yes                no  ...              0.0              1.0   \n",
       "518         yes               yes  ...              3.0              3.0   \n",
       "554         yes               yes  ...              3.0              1.0   \n",
       "33           no                no  ...              1.0              2.0   \n",
       "375         yes                no  ...              0.0              3.0   \n",
       "\n",
       "     Frequency [Rock]  Frequency [Video game music]  Anxiety  Depression  \\\n",
       "326               3.0                           2.0      7.0         4.0   \n",
       "518               3.0                           0.0      8.0         8.0   \n",
       "554               3.0                           1.0      6.0         6.0   \n",
       "33                3.0                           3.0      9.0        10.0   \n",
       "375               1.0                           2.0      4.0         8.0   \n",
       "\n",
       "     Insomnia  OCD  Music effects    Permissions  \n",
       "326       7.0  0.0        improve  i understand.  \n",
       "518       3.0  3.0        improve  i understand.  \n",
       "554       7.0  5.0        improve  i understand.  \n",
       "33        3.0  0.0      no effect  i understand.  \n",
       "375       8.0  4.0      no effect  i understand.  \n",
       "\n",
       "[5 rows x 33 columns]"
      ]
     },
     "execution_count": 5,
     "metadata": {},
     "output_type": "execute_result"
    }
   ],
   "source": [
    "# Let's see some random records\n",
    "survey_df.sample(5)"
   ]
  },
  {
   "cell_type": "markdown",
   "id": "c735b22d",
   "metadata": {},
   "source": [
    "# EDA (Exploratory Data Analysis)\n",
    "\n",
    "Exploratory Data Analysis (EDA) is a process of analyzing datasets to summarize their main characteristics, often using statistical graphics and other data visualization methods. EDA is a critical step in the data science process as it allows one to understand the underlying patterns, spot anomalies, test hypotheses, and check assumptions with the help of summary statistics and graphical representations. This approach is often open-ended, where the analyst probes the data in various ways to uncover underlying structures and insights.\n"
   ]
  },
  {
   "cell_type": "markdown",
   "id": "3972d1cb",
   "metadata": {},
   "source": [
    "## How is 'Age' and 'Hours per day' distributed?"
   ]
  },
  {
   "cell_type": "code",
   "execution_count": 6,
   "id": "7015186b",
   "metadata": {},
   "outputs": [
    {
     "data": {
      "image/png": "[encoded data removed]",
      "text/plain": [
       "<Figure size 1080x360 with 2 Axes>"
      ]
     },
     "metadata": {
      "needs_background": "light"
     },
     "output_type": "display_data"
    }
   ],
   "source": [
    "survey_df[['Age','Hours per day']].hist(figsize=(15,5))\n",
    "plt.show()"
   ]
  },
  {
   "cell_type": "markdown",
   "id": "dde143be",
   "metadata": {},
   "source": [
    "- The majority of respondents appear to be young, although there are some older individuals in the dataset.\n",
    "- The music listening habits are concentrated between 2.5 and 4 hours per day for almost everyone. While it would be intriguing if the distribution exhibited a bimodal pattern, suggesting potential segmentation based on age or daily listening hours, such a trend does not seem to be present in the data."
   ]
  },
  {
   "cell_type": "markdown",
   "id": "43783ebf",
   "metadata": {},
   "source": [
    "## Streaming Service Usage"
   ]
  },
  {
   "cell_type": "code",
   "execution_count": 7,
   "id": "79dde4e9",
   "metadata": {},
   "outputs": [
    {
     "data": {
      "image/png": "[encoded data removed]",
      "text/plain": [
       "<Figure size 432x288 with 1 Axes>"
      ]
     },
     "metadata": {
      "needs_background": "light"
     },
     "output_type": "display_data"
    }
   ],
   "source": [
    "survey_df['Primary streaming service'].value_counts().plot(kind='bar');"
   ]
  },
  {
   "cell_type": "markdown",
   "id": "ca095ea2",
   "metadata": {},
   "source": [
    "Spotify has the largest amount of music. It is interesting to see that in third place we get no streaming service. From this plot we can continue and see the distribution of hours per day listened by those without a streaming service"
   ]
  },
  {
   "cell_type": "code",
   "execution_count": 8,
   "id": "0d3ccc79",
   "metadata": {},
   "outputs": [
    {
     "data": {
      "text/plain": [
       "<AxesSubplot:>"
      ]
     },
     "execution_count": 8,
     "metadata": {},
     "output_type": "execute_result"
    },
    {
     "data": {
      "image/png": "[encoded data removed]",
      "text/plain": [
       "<Figure size 432x288 with 1 Axes>"
      ]
     },
     "metadata": {
      "needs_background": "light"
     },
     "output_type": "display_data"
    }
   ],
   "source": [
    "df_wo_stream=survey_df[survey_df[\"Primary streaming service\"]==\n",
    "                       \"i do not use a streaming service.\"]\n",
    "df_wo_stream['Hours per day'].hist()"
   ]
  },
  {
   "cell_type": "markdown",
   "id": "4592bb93",
   "metadata": {},
   "source": [
    "More 0's here compared to entries with streaming services. Highlights the significance for Music Therapy—having a streaming service appears linked to increased listening time. Suggests potential adjustments if listening time needs curbing when streaming services are limited or absent."
   ]
  }
 ],
 "metadata": {
  "kernelspec": {
   "display_name": "Python 3 (ipykernel)",
   "language": "python",
   "name": "python3"
  },
  "language_info": {
   "codemirror_mode": {
    "name": "ipython",
    "version": 3
   },
   "file_extension": ".py",
   "mimetype": "text/x-python",
   "name": "python",
   "nbconvert_exporter": "python",
   "pygments_lexer": "ipython3",
   "version": "3.9.7"
  }
 },
 "nbformat": 4,
 "nbformat_minor": 5
}
