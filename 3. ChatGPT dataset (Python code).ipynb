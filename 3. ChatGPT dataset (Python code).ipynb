{
 "cells": [
  {
   "cell_type": "markdown",
   "metadata": {},
   "source": [
    "## Hypothesis"
   ]
  },
  {
   "cell_type": "markdown",
   "metadata": {},
   "source": [
    "As concerns about data privacy and management continue to grow, we expect that the addition of **chat history management** features in release **1.2023.23** has been well-received. This is likely to lead to a significant change in user sentiment in reviews specifically addressing data privacy."
   ]
  },
  {
   "cell_type": "markdown",
   "metadata": {},
   "source": [
    "## Background on Data \n"
   ]
  },
  {
   "cell_type": "markdown",
   "metadata": {},
   "source": [
    "The data to be used for this project comprises two primary sources:\n",
    "\n",
    "1. **Release Log Data (`release_log.csv`):** This data, which provides version logs of the ChatGPT App from the Apple App Store, is publicly available at [Apple's App Store](https://apps.apple.com/us/app/chatgpt/id6448311069). It provides context about the evolution of the app, the introduction of features, and the timing of these changes.\n",
    "\n",
    "2. **ChatGPT App Reviews Data (`chatgpt_reviews.csv`):** This dataset is a comprehensive collection of user reviews for the ChatGPT App on iOS, available on [Kaggle](https://www.kaggle.com/datasets/saloni1712/chatgpt-app-reviews/download?datasetVersionNumber=1). The dataset provides valuable insights into user satisfaction, app performance, and emerging patterns. It is this dataset that will be used to determine sentiment changes in response to the chat history management feature's introduction.\n",
    "\n",
    "The method of data collection involved scraping ChatGPT reviews on the App Store. This process allowed us to gather a rich set of user opinions, concerns, and praises, serving as a valuable resource in assessing the reaction to the app's evolution and specific feature updates.\n"
   ]
  },
  {
   "cell_type": "markdown",
   "metadata": {},
   "source": [
    "# Exercise 1:\n",
    "## - Libraries and random seed\n",
    "## - Create a relative path to import both datasets"
   ]
  },
  {
   "cell_type": "code",
   "execution_count": 1,
   "metadata": {},
   "outputs": [],
   "source": [
    "# Ignore warnings\n",
    "import warnings\n",
    "warnings.filterwarnings(\"ignore\")  # This is to ignore any warnings that might pop up during execution\n",
    "\n",
    "\n",
    "# Basic libraries to manipulate data\n",
    "import matplotlib.pyplot as plt  # Matplotlib for data visualization\n",
    "import numpy as np  # Numpy for numerical computations\n",
    "import pandas as pd  # Pandas for data manipulation\n",
    "\n",
    "np.random.seed(42) # To ensure all the probabilistic things are reproducible"
   ]
  },
  {
   "cell_type": "markdown",
   "metadata": {},
   "source": [
    "# Basic characteristics of the datasets\n"
   ]
  },
  {
   "cell_type": "code",
   "execution_count": 2,
   "metadata": {},
   "outputs": [],
   "source": [
    "# Specify the path to the datasets\n",
    "data_path = \"./data/\"\n",
    "\n",
    "# Specify the filenames of the datasets\n",
    "release_log_filename = \"release_log.csv\"\n",
    "reviews_filename = \"chatgpt_reviews.csv\"\n",
    "\n",
    "# Read the CSV files and create backup copies\n",
    "backup_release_log = pd.read_csv(data_path + release_log_filename)\n",
    "backup_reviews = pd.read_csv(data_path + reviews_filename)\n",
    "\n",
    "# Create working copies of the dataframes to perform analysis\n",
    "release_log_df = backup_release_log.copy()\n",
    "reviews_df = backup_reviews.copy()\n"
   ]
  },
  {
   "cell_type": "markdown",
   "metadata": {},
   "source": [
    "# Exercise 2:\n",
    "## - Check basic information of release_log_df dataset \n",
    "## - Extract the year from \"release_date\" being an \"object\"\n",
    "## - Convert it to datetime format and extract the year being a \"datetime\""
   ]
  },
  {
   "cell_type": "markdown",
   "metadata": {},
   "source": [
    "We will do the analysis separately so we begin with the smallest dataset\n",
    "\n",
    "## release_log_df"
   ]
  },
  {
   "cell_type": "markdown",
   "metadata": {},
   "source": [
    "Since the `release_log_df` dataset is very small, we can print it all out to see if there is something that jumps out to us.\n",
    "\n",
    "A few things to notice:\n",
    "- The `release` column is unique, so it can be used as a key identifier. We'll come back to this later on.\n",
    "- The `release_commentary` column sometimes has a dot at the beginning, and sometimes it doesn't. We'll fix this in the text preprocessing.\n"
   ]
  },
  {
   "cell_type": "code",
   "execution_count": 4,
   "metadata": {},
   "outputs": [
    {
     "data": {
      "text/html": [
       "<div>\n",
       "<style scoped>\n",
       "    .dataframe tbody tr th:only-of-type {\n",
       "        vertical-align: middle;\n",
       "    }\n",
       "\n",
       "    .dataframe tbody tr th {\n",
       "        vertical-align: top;\n",
       "    }\n",
       "\n",
       "    .dataframe thead th {\n",
       "        text-align: right;\n",
       "    }\n",
       "</style>\n",
       "<table border=\"1\" class=\"dataframe\">\n",
       "  <thead>\n",
       "    <tr style=\"text-align: right;\">\n",
       "      <th></th>\n",
       "      <th>release</th>\n",
       "      <th>release_date</th>\n",
       "      <th>release_commentary</th>\n",
       "    </tr>\n",
       "  </thead>\n",
       "  <tbody>\n",
       "    <tr>\n",
       "      <th>0</th>\n",
       "      <td>1.2023.159</td>\n",
       "      <td>2023-06-12</td>\n",
       "      <td>· Shared Links: Share your chats with others. ...</td>\n",
       "    </tr>\n",
       "    <tr>\n",
       "      <th>1</th>\n",
       "      <td>1.2023.152</td>\n",
       "      <td>2023-06-08</td>\n",
       "      <td>· iPad Compatibility: The app now takes advant...</td>\n",
       "    </tr>\n",
       "    <tr>\n",
       "      <th>2</th>\n",
       "      <td>1.2023.23</td>\n",
       "      <td>2023-05-25</td>\n",
       "      <td>· Improved Right-to-Left Language Support: Res...</td>\n",
       "    </tr>\n",
       "    <tr>\n",
       "      <th>3</th>\n",
       "      <td>1.2023.22</td>\n",
       "      <td>2023-05-24</td>\n",
       "      <td>· Enhanced Voice Input: You can now customize ...</td>\n",
       "    </tr>\n",
       "    <tr>\n",
       "      <th>4</th>\n",
       "      <td>1.2023.21</td>\n",
       "      <td>2023-05-19</td>\n",
       "      <td>This update of the ChatGPT app brings the foll...</td>\n",
       "    </tr>\n",
       "    <tr>\n",
       "      <th>5</th>\n",
       "      <td>1.2023.20</td>\n",
       "      <td>2023-05-18</td>\n",
       "      <td>First Release.</td>\n",
       "    </tr>\n",
       "  </tbody>\n",
       "</table>\n",
       "</div>"
      ],
      "text/plain": [
       "      release release_date                                 release_commentary\n",
       "0  1.2023.159   2023-06-12  · Shared Links: Share your chats with others. ...\n",
       "1  1.2023.152   2023-06-08  · iPad Compatibility: The app now takes advant...\n",
       "2   1.2023.23   2023-05-25  · Improved Right-to-Left Language Support: Res...\n",
       "3   1.2023.22   2023-05-24  · Enhanced Voice Input: You can now customize ...\n",
       "4   1.2023.21   2023-05-19  This update of the ChatGPT app brings the foll...\n",
       "5   1.2023.20   2023-05-18                                     First Release."
      ]
     },
     "execution_count": 4,
     "metadata": {},
     "output_type": "execute_result"
    }
   ],
   "source": [
    "release_log_df"
   ]
  },
  {
   "cell_type": "markdown",
   "metadata": {},
   "source": [
    "We can continue characterizing our datasets using `info`"
   ]
  },
  {
   "cell_type": "code",
   "execution_count": 5,
   "metadata": {},
   "outputs": [
    {
     "name": "stdout",
     "output_type": "stream",
     "text": [
      "<class 'pandas.core.frame.DataFrame'>\n",
      "RangeIndex: 6 entries, 0 to 5\n",
      "Data columns (total 3 columns):\n",
      " #   Column              Non-Null Count  Dtype \n",
      "---  ------              --------------  ----- \n",
      " 0   release             6 non-null      object\n",
      " 1   release_date        6 non-null      object\n",
      " 2   release_commentary  6 non-null      object\n",
      "dtypes: object(3)\n",
      "memory usage: 272.0+ bytes\n"
     ]
    }
   ],
   "source": [
    "release_log_df.info()"
   ]
  },
  {
   "cell_type": "markdown",
   "metadata": {},
   "source": [
    "As seen in the previous table, the column `release_date` has an object dtype, indicating that all its values are strings containing dates. This isn't an efficient way to store data, as shown in the next cell."
   ]
  },
  {
   "cell_type": "code",
   "execution_count": 20,
   "metadata": {},
   "outputs": [
    {
     "data": {
      "text/plain": [
       "0    2023\n",
       "1    2023\n",
       "2    2023\n",
       "3    2023\n",
       "4    2023\n",
       "5    2023\n",
       "Name: release_date, dtype: object"
      ]
     },
     "execution_count": 20,
     "metadata": {},
     "output_type": "execute_result"
    }
   ],
   "source": [
    "# Extracting the year from a string column (release_date)\n",
    "release_log_df['release_date'].str.split('-').str.get(0)"
   ]
  },
  {
   "cell_type": "markdown",
   "metadata": {},
   "source": [
    "This is not to mention that dates can sometimes be in various distinct formats, such as `2023/09/21`, where the previous expression wouldn't capture all the years.\n",
    "\n",
    "Now, we transform the column to a datetime type and retrieve the year more straightforwardly. While it might seem simple in this example, the challenge of differently formatted dates persists. Converting it to a consistent format is generally advisable, as the time it takes for a column to be preprocessed is usually much smaller than the time this conversion will save us."
   ]
  },
  {
   "cell_type": "code",
   "execution_count": 21,
   "metadata": {},
   "outputs": [
    {
     "data": {
      "text/plain": [
       "0    2023\n",
       "1    2023\n",
       "2    2023\n",
       "3    2023\n",
       "4    2023\n",
       "5    2023\n",
       "Name: release_date, dtype: int64"
      ]
     },
     "execution_count": 21,
     "metadata": {},
     "output_type": "execute_result"
    }
   ],
   "source": [
    "# Using datetime datatype to extract the year\n",
    "pd.to_datetime(release_log_df['release_date']).dt.year"
   ]
  },
  {
   "cell_type": "code",
   "execution_count": 22,
   "metadata": {},
   "outputs": [
    {
     "data": {
      "text/plain": [
       "dtype('O')"
      ]
     },
     "execution_count": 22,
     "metadata": {},
     "output_type": "execute_result"
    }
   ],
   "source": [
    "# Checking the datatype of the 'release_date' column\n",
    "release_log_df['release_date'].values.dtype"
   ]
  },
  {
   "cell_type": "code",
   "execution_count": 23,
   "metadata": {},
   "outputs": [
    {
     "data": {
      "text/plain": [
       "release               object\n",
       "release_date          object\n",
       "release_commentary    object\n",
       "dtype: object"
      ]
     },
     "execution_count": 23,
     "metadata": {},
     "output_type": "execute_result"
    }
   ],
   "source": [
    "# We can also find it's dtype directly accessing the df's property\n",
    "release_log_df.dtypes"
   ]
  },
  {
   "cell_type": "markdown",
   "metadata": {},
   "source": [
    "To make the change persistent we need to assign it to the previous data frame"
   ]
  },
  {
   "cell_type": "code",
   "execution_count": 24,
   "metadata": {},
   "outputs": [
    {
     "data": {
      "text/plain": [
       "release                       object\n",
       "release_date          datetime64[ns]\n",
       "release_commentary            object\n",
       "dtype: object"
      ]
     },
     "execution_count": 24,
     "metadata": {},
     "output_type": "execute_result"
    }
   ],
   "source": [
    "release_log_df['release_date']=pd.to_datetime(release_log_df['release_date'])\n",
    "release_log_df.dtypes"
   ]
  },
  {
   "cell_type": "code",
   "execution_count": null,
   "metadata": {},
   "outputs": [],
   "source": [
    "# Extraction of the year once it is in datetime format\n",
    "release_log_df['release_date'].dt.year"
   ]
  },
  {
   "cell_type": "markdown",
   "metadata": {},
   "source": [
    "# Let's explore the next dataset together"
   ]
  },
  {
   "cell_type": "markdown",
   "metadata": {},
   "source": [
    "# reviews_df"
   ]
  },
  {
   "cell_type": "markdown",
   "metadata": {},
   "source": [
    "Now we analyze the larger table: `reviews_df`\n",
    "\n",
    "Since this table has many more rows, we cannot get a full picture by just seeing it in its entirety. Several methods are available to get a glimpse of the contents.\n",
    "\n",
    "To view the beginning and end of the table, we can use `head` and `tail`. Sometimes, it's best to return a sample since it spans more of the table. The data could be correlated by rows; that is, the order of creation might have a chunk of the database that is only in English, and then another one in other languages. As we can see below, not all the reviews are in English. This will be a problem we'll fix later.\n"
   ]
  },
  {
   "cell_type": "code",
   "execution_count": 30,
   "metadata": {},
   "outputs": [
    {
     "data": {
      "text/html": [
       "<div>\n",
       "<style scoped>\n",
       "    .dataframe tbody tr th:only-of-type {\n",
       "        vertical-align: middle;\n",
       "    }\n",
       "\n",
       "    .dataframe tbody tr th {\n",
       "        vertical-align: top;\n",
       "    }\n",
       "\n",
       "    .dataframe thead th {\n",
       "        text-align: right;\n",
       "    }\n",
       "</style>\n",
       "<table border=\"1\" class=\"dataframe\">\n",
       "  <thead>\n",
       "    <tr style=\"text-align: right;\">\n",
       "      <th></th>\n",
       "      <th>date</th>\n",
       "      <th>title</th>\n",
       "      <th>review</th>\n",
       "      <th>rating</th>\n",
       "    </tr>\n",
       "  </thead>\n",
       "  <tbody>\n",
       "    <tr>\n",
       "      <th>1427</th>\n",
       "      <td>2023-05-18 19:26:48</td>\n",
       "      <td>so cool</td>\n",
       "      <td>add plugin and web browsing too like in the web</td>\n",
       "      <td>5</td>\n",
       "    </tr>\n",
       "    <tr>\n",
       "      <th>1732</th>\n",
       "      <td>2023-05-18 19:21:40</td>\n",
       "      <td>ভালো</td>\n",
       "      <td>বাহ ভালোই তো!</td>\n",
       "      <td>5</td>\n",
       "    </tr>\n",
       "    <tr>\n",
       "      <th>1549</th>\n",
       "      <td>2023-05-21 22:56:08</td>\n",
       "      <td>A Stellar Experience with ChatGPT</td>\n",
       "      <td>I recently had the opportunity to use ChatGPT,...</td>\n",
       "      <td>5</td>\n",
       "    </tr>\n",
       "    <tr>\n",
       "      <th>1199</th>\n",
       "      <td>2023-06-01 14:07:33</td>\n",
       "      <td>God why can’t I log in?</td>\n",
       "      <td>“The email you provided is not supported” I do...</td>\n",
       "      <td>2</td>\n",
       "    </tr>\n",
       "    <tr>\n",
       "      <th>1072</th>\n",
       "      <td>2023-05-21 09:53:47</td>\n",
       "      <td>sign in issue with phone number</td>\n",
       "      <td>I cannot sign in with my phone number. I don’t...</td>\n",
       "      <td>1</td>\n",
       "    </tr>\n",
       "  </tbody>\n",
       "</table>\n",
       "</div>"
      ],
      "text/plain": [
       "                     date                              title  \\\n",
       "1427  2023-05-18 19:26:48                            so cool   \n",
       "1732  2023-05-18 19:21:40                               ভালো   \n",
       "1549  2023-05-21 22:56:08  A Stellar Experience with ChatGPT   \n",
       "1199  2023-06-01 14:07:33            God why can’t I log in?   \n",
       "1072  2023-05-21 09:53:47    sign in issue with phone number   \n",
       "\n",
       "                                                 review  rating  \n",
       "1427    add plugin and web browsing too like in the web       5  \n",
       "1732                                      বাহ ভালোই তো!       5  \n",
       "1549  I recently had the opportunity to use ChatGPT,...       5  \n",
       "1199  “The email you provided is not supported” I do...       2  \n",
       "1072  I cannot sign in with my phone number. I don’t...       1  "
      ]
     },
     "execution_count": 30,
     "metadata": {},
     "output_type": "execute_result"
    }
   ],
   "source": [
    "reviews_df.sample(5)"
   ]
  },
  {
   "cell_type": "markdown",
   "metadata": {},
   "source": [
    "Similarly to before, we obtain a snapshot using `info`"
   ]
  },
  {
   "cell_type": "code",
   "execution_count": 31,
   "metadata": {},
   "outputs": [
    {
     "name": "stdout",
     "output_type": "stream",
     "text": [
      "<class 'pandas.core.frame.DataFrame'>\n",
      "RangeIndex: 2058 entries, 0 to 2057\n",
      "Data columns (total 4 columns):\n",
      " #   Column  Non-Null Count  Dtype \n",
      "---  ------  --------------  ----- \n",
      " 0   date    2058 non-null   object\n",
      " 1   title   2058 non-null   object\n",
      " 2   review  2058 non-null   object\n",
      " 3   rating  2058 non-null   int64 \n",
      "dtypes: int64(1), object(3)\n",
      "memory usage: 64.4+ KB\n"
     ]
    }
   ],
   "source": [
    "reviews_df.info()"
   ]
  },
  {
   "cell_type": "markdown",
   "metadata": {},
   "source": [
    "Similar to before, we notice that the date is not in the dtype that would make more sense. We'll make this change in the following cell."
   ]
  },
  {
   "cell_type": "code",
   "execution_count": 32,
   "metadata": {},
   "outputs": [],
   "source": [
    "reviews_df['date']=pd.to_datetime(reviews_df['date'])"
   ]
  },
  {
   "cell_type": "markdown",
   "metadata": {},
   "source": [
    "We can identify unique values in the column by examining its distinct entries"
   ]
  },
  {
   "cell_type": "code",
   "execution_count": 33,
   "metadata": {},
   "outputs": [
    {
     "data": {
      "text/plain": [
       "date      2053\n",
       "title     1850\n",
       "review    2033\n",
       "rating       5\n",
       "dtype: int64"
      ]
     },
     "execution_count": 33,
     "metadata": {},
     "output_type": "execute_result"
    }
   ],
   "source": [
    "reviews_df.nunique()"
   ]
  },
  {
   "cell_type": "markdown",
   "metadata": {},
   "source": [
    "It makes more sense to see them as a percentage of the total length of the table"
   ]
  },
  {
   "cell_type": "code",
   "execution_count": 34,
   "metadata": {},
   "outputs": [
    {
     "data": {
      "text/plain": [
       "date      99.757046\n",
       "title     89.893100\n",
       "review    98.785228\n",
       "rating     0.242954\n",
       "dtype: float64"
      ]
     },
     "execution_count": 34,
     "metadata": {},
     "output_type": "execute_result"
    }
   ],
   "source": [
    "reviews_df.nunique()/len(reviews_df)*100"
   ]
  },
  {
   "cell_type": "markdown",
   "metadata": {},
   "source": [
    "The 'date' is the only one close to being a unique key, but since it's not, we are left with the default index that runs through the range of the table's length."
   ]
  },
  {
   "cell_type": "markdown",
   "metadata": {},
   "source": [
    "Here, we'll explore another method useful for numeric columns. The `describe` method provides statistics for every numeric column. In this case, there's only one, but it will be useful nonetheless."
   ]
  },
  {
   "cell_type": "code",
   "execution_count": 36,
   "metadata": {},
   "outputs": [
    {
     "data": {
      "text/html": [
       "<div>\n",
       "<style scoped>\n",
       "    .dataframe tbody tr th:only-of-type {\n",
       "        vertical-align: middle;\n",
       "    }\n",
       "\n",
       "    .dataframe tbody tr th {\n",
       "        vertical-align: top;\n",
       "    }\n",
       "\n",
       "    .dataframe thead th {\n",
       "        text-align: right;\n",
       "    }\n",
       "</style>\n",
       "<table border=\"1\" class=\"dataframe\">\n",
       "  <thead>\n",
       "    <tr style=\"text-align: right;\">\n",
       "      <th></th>\n",
       "      <th>rating</th>\n",
       "    </tr>\n",
       "  </thead>\n",
       "  <tbody>\n",
       "    <tr>\n",
       "      <th>count</th>\n",
       "      <td>2058.000000</td>\n",
       "    </tr>\n",
       "    <tr>\n",
       "      <th>mean</th>\n",
       "      <td>3.744898</td>\n",
       "    </tr>\n",
       "    <tr>\n",
       "      <th>std</th>\n",
       "      <td>1.577841</td>\n",
       "    </tr>\n",
       "    <tr>\n",
       "      <th>min</th>\n",
       "      <td>1.000000</td>\n",
       "    </tr>\n",
       "    <tr>\n",
       "      <th>25%</th>\n",
       "      <td>3.000000</td>\n",
       "    </tr>\n",
       "    <tr>\n",
       "      <th>50%</th>\n",
       "      <td>5.000000</td>\n",
       "    </tr>\n",
       "    <tr>\n",
       "      <th>75%</th>\n",
       "      <td>5.000000</td>\n",
       "    </tr>\n",
       "    <tr>\n",
       "      <th>max</th>\n",
       "      <td>5.000000</td>\n",
       "    </tr>\n",
       "  </tbody>\n",
       "</table>\n",
       "</div>"
      ],
      "text/plain": [
       "            rating\n",
       "count  2058.000000\n",
       "mean      3.744898\n",
       "std       1.577841\n",
       "min       1.000000\n",
       "25%       3.000000\n",
       "50%       5.000000\n",
       "75%       5.000000\n",
       "max       5.000000"
      ]
     },
     "execution_count": 36,
     "metadata": {},
     "output_type": "execute_result"
    }
   ],
   "source": [
    "reviews_df.describe()"
   ]
  },
  {
   "cell_type": "markdown",
   "metadata": {},
   "source": [
    "Here, we observe that the minimum rating is 1, indicating there are no 0 or negative reviews. We'll need to adjust for this accordingly. The median rating is 5, suggesting that almost all reviews are positive.\n",
    "\n",
    "This pattern is common in review datasets, where data tends to be heavily biased towards either very negative or very positive reviews. Individuals with lukewarm opinions often don't take the time to write a review that essentially says: \"Meh\"."
   ]
  },
  {
   "cell_type": "markdown",
   "metadata": {},
   "source": [
    "# Exercise 3:\n",
    "## - From table \"release_log_df\", extract all the records where the column \"release_date\" is 2023-06-08\n",
    "\n",
    "## - From table \"reviews_df\", extract all the records where that \"rating\" column is > 4"
   ]
  },
  {
   "cell_type": "code",
   "execution_count": 8,
   "metadata": {},
   "outputs": [
    {
     "data": {
      "text/html": [
       "<div>\n",
       "<style scoped>\n",
       "    .dataframe tbody tr th:only-of-type {\n",
       "        vertical-align: middle;\n",
       "    }\n",
       "\n",
       "    .dataframe tbody tr th {\n",
       "        vertical-align: top;\n",
       "    }\n",
       "\n",
       "    .dataframe thead th {\n",
       "        text-align: right;\n",
       "    }\n",
       "</style>\n",
       "<table border=\"1\" class=\"dataframe\">\n",
       "  <thead>\n",
       "    <tr style=\"text-align: right;\">\n",
       "      <th></th>\n",
       "      <th>release</th>\n",
       "      <th>release_date</th>\n",
       "      <th>release_commentary</th>\n",
       "    </tr>\n",
       "  </thead>\n",
       "  <tbody>\n",
       "    <tr>\n",
       "      <th>1</th>\n",
       "      <td>1.2023.152</td>\n",
       "      <td>2023-06-08</td>\n",
       "      <td>· iPad Compatibility: The app now takes advant...</td>\n",
       "    </tr>\n",
       "  </tbody>\n",
       "</table>\n",
       "</div>"
      ],
      "text/plain": [
       "      release release_date                                 release_commentary\n",
       "1  1.2023.152   2023-06-08  · iPad Compatibility: The app now takes advant..."
      ]
     },
     "execution_count": 8,
     "metadata": {},
     "output_type": "execute_result"
    }
   ],
   "source": [
    "# Option 1\n",
    "date = ['2023-06-08']\n",
    "release_date_filter = release_log_df[release_log_df['release_date'].\n",
    "                                     isin(date)]\n",
    "release_date_filter"
   ]
  },
  {
   "cell_type": "code",
   "execution_count": 10,
   "metadata": {},
   "outputs": [
    {
     "data": {
      "text/html": [
       "<div>\n",
       "<style scoped>\n",
       "    .dataframe tbody tr th:only-of-type {\n",
       "        vertical-align: middle;\n",
       "    }\n",
       "\n",
       "    .dataframe tbody tr th {\n",
       "        vertical-align: top;\n",
       "    }\n",
       "\n",
       "    .dataframe thead th {\n",
       "        text-align: right;\n",
       "    }\n",
       "</style>\n",
       "<table border=\"1\" class=\"dataframe\">\n",
       "  <thead>\n",
       "    <tr style=\"text-align: right;\">\n",
       "      <th></th>\n",
       "      <th>release</th>\n",
       "      <th>release_date</th>\n",
       "      <th>release_commentary</th>\n",
       "    </tr>\n",
       "  </thead>\n",
       "  <tbody>\n",
       "    <tr>\n",
       "      <th>1</th>\n",
       "      <td>1.2023.152</td>\n",
       "      <td>2023-06-08</td>\n",
       "      <td>· iPad Compatibility: The app now takes advant...</td>\n",
       "    </tr>\n",
       "  </tbody>\n",
       "</table>\n",
       "</div>"
      ],
      "text/plain": [
       "      release release_date                                 release_commentary\n",
       "1  1.2023.152   2023-06-08  · iPad Compatibility: The app now takes advant..."
      ]
     },
     "execution_count": 10,
     "metadata": {},
     "output_type": "execute_result"
    }
   ],
   "source": [
    "# Option 2\n",
    "release_date_filter = release_log_df[release_log_df['release_date']\n",
    "                                     == '2023-06-08']\n",
    "release_date_filter"
   ]
  },
  {
   "cell_type": "code",
   "execution_count": 5,
   "metadata": {},
   "outputs": [
    {
     "data": {
      "text/html": [
       "<div>\n",
       "<style scoped>\n",
       "    .dataframe tbody tr th:only-of-type {\n",
       "        vertical-align: middle;\n",
       "    }\n",
       "\n",
       "    .dataframe tbody tr th {\n",
       "        vertical-align: top;\n",
       "    }\n",
       "\n",
       "    .dataframe thead th {\n",
       "        text-align: right;\n",
       "    }\n",
       "</style>\n",
       "<table border=\"1\" class=\"dataframe\">\n",
       "  <thead>\n",
       "    <tr style=\"text-align: right;\">\n",
       "      <th></th>\n",
       "      <th>release</th>\n",
       "      <th>release_date</th>\n",
       "      <th>release_commentary</th>\n",
       "    </tr>\n",
       "  </thead>\n",
       "  <tbody>\n",
       "    <tr>\n",
       "      <th>1</th>\n",
       "      <td>1.2023.152</td>\n",
       "      <td>2023-06-08</td>\n",
       "      <td>· iPad Compatibility: The app now takes advant...</td>\n",
       "    </tr>\n",
       "  </tbody>\n",
       "</table>\n",
       "</div>"
      ],
      "text/plain": [
       "      release release_date                                 release_commentary\n",
       "1  1.2023.152   2023-06-08  · iPad Compatibility: The app now takes advant..."
      ]
     },
     "execution_count": 5,
     "metadata": {},
     "output_type": "execute_result"
    }
   ],
   "source": [
    "# Option 3\n",
    "release_date_filter = release_log_df.query(\"release_date == '2023-06-08'\")\n",
    "release_date_filter"
   ]
  },
  {
   "cell_type": "code",
   "execution_count": 12,
   "metadata": {},
   "outputs": [
    {
     "data": {
      "text/html": [
       "<div>\n",
       "<style scoped>\n",
       "    .dataframe tbody tr th:only-of-type {\n",
       "        vertical-align: middle;\n",
       "    }\n",
       "\n",
       "    .dataframe tbody tr th {\n",
       "        vertical-align: top;\n",
       "    }\n",
       "\n",
       "    .dataframe thead th {\n",
       "        text-align: right;\n",
       "    }\n",
       "</style>\n",
       "<table border=\"1\" class=\"dataframe\">\n",
       "  <thead>\n",
       "    <tr style=\"text-align: right;\">\n",
       "      <th></th>\n",
       "      <th>date</th>\n",
       "      <th>title</th>\n",
       "      <th>review</th>\n",
       "      <th>rating</th>\n",
       "    </tr>\n",
       "  </thead>\n",
       "  <tbody>\n",
       "    <tr>\n",
       "      <th>7</th>\n",
       "      <td>2023-05-18 21:10:34</td>\n",
       "      <td>Nice and quick!</td>\n",
       "      <td>On this app, as opposed to on the website, it ...</td>\n",
       "      <td>5</td>\n",
       "    </tr>\n",
       "    <tr>\n",
       "      <th>8</th>\n",
       "      <td>2023-06-15 15:39:10</td>\n",
       "      <td>The app of all apps for AI</td>\n",
       "      <td>There’s been times of apps touting they are ch...</td>\n",
       "      <td>5</td>\n",
       "    </tr>\n",
       "    <tr>\n",
       "      <th>9</th>\n",
       "      <td>2023-06-08 16:49:52</td>\n",
       "      <td>A no-brainer</td>\n",
       "      <td>This is the beginning of the future of how we ...</td>\n",
       "      <td>5</td>\n",
       "    </tr>\n",
       "    <tr>\n",
       "      <th>10</th>\n",
       "      <td>2023-06-13 15:25:35</td>\n",
       "      <td>Grateful this AI isn’t an actual Hologram or r...</td>\n",
       "      <td>I couldn’t resist and finally downloaded this ...</td>\n",
       "      <td>5</td>\n",
       "    </tr>\n",
       "    <tr>\n",
       "      <th>12</th>\n",
       "      <td>2023-05-18 17:57:57</td>\n",
       "      <td>OpenAI iOS App Review</td>\n",
       "      <td>The OpenAI iOS App is a fantastic tool for any...</td>\n",
       "      <td>5</td>\n",
       "    </tr>\n",
       "    <tr>\n",
       "      <th>...</th>\n",
       "      <td>...</td>\n",
       "      <td>...</td>\n",
       "      <td>...</td>\n",
       "      <td>...</td>\n",
       "    </tr>\n",
       "    <tr>\n",
       "      <th>2052</th>\n",
       "      <td>2023-05-18 19:13:28</td>\n",
       "      <td>Superb AI</td>\n",
       "      <td>I’ve been using chat and have been a proud pre...</td>\n",
       "      <td>5</td>\n",
       "    </tr>\n",
       "    <tr>\n",
       "      <th>2053</th>\n",
       "      <td>2023-05-18 18:27:04</td>\n",
       "      <td>Fantastic App with Room for Enhancements</td>\n",
       "      <td>The ChatGPT iOS app is an outstanding product....</td>\n",
       "      <td>5</td>\n",
       "    </tr>\n",
       "    <tr>\n",
       "      <th>2055</th>\n",
       "      <td>2023-06-25 04:55:57</td>\n",
       "      <td>Legit amazing</td>\n",
       "      <td>So I like to role-play on this app because of ...</td>\n",
       "      <td>5</td>\n",
       "    </tr>\n",
       "    <tr>\n",
       "      <th>2056</th>\n",
       "      <td>2023-06-25 04:20:59</td>\n",
       "      <td>Amazing!!</td>\n",
       "      <td>I’m so grateful that they finally added iPad c...</td>\n",
       "      <td>5</td>\n",
       "    </tr>\n",
       "    <tr>\n",
       "      <th>2057</th>\n",
       "      <td>2023-06-25 03:12:37</td>\n",
       "      <td>An absolute life saver</td>\n",
       "      <td>I have never written a review about an app bef...</td>\n",
       "      <td>5</td>\n",
       "    </tr>\n",
       "  </tbody>\n",
       "</table>\n",
       "<p>1077 rows × 4 columns</p>\n",
       "</div>"
      ],
      "text/plain": [
       "                     date                                              title  \\\n",
       "7     2023-05-18 21:10:34                                    Nice and quick!   \n",
       "8     2023-06-15 15:39:10                         The app of all apps for AI   \n",
       "9     2023-06-08 16:49:52                                       A no-brainer   \n",
       "10    2023-06-13 15:25:35  Grateful this AI isn’t an actual Hologram or r...   \n",
       "12    2023-05-18 17:57:57                              OpenAI iOS App Review   \n",
       "...                   ...                                                ...   \n",
       "2052  2023-05-18 19:13:28                                          Superb AI   \n",
       "2053  2023-05-18 18:27:04           Fantastic App with Room for Enhancements   \n",
       "2055  2023-06-25 04:55:57                                      Legit amazing   \n",
       "2056  2023-06-25 04:20:59                                          Amazing!!   \n",
       "2057  2023-06-25 03:12:37                             An absolute life saver   \n",
       "\n",
       "                                                 review  rating  \n",
       "7     On this app, as opposed to on the website, it ...       5  \n",
       "8     There’s been times of apps touting they are ch...       5  \n",
       "9     This is the beginning of the future of how we ...       5  \n",
       "10    I couldn’t resist and finally downloaded this ...       5  \n",
       "12    The OpenAI iOS App is a fantastic tool for any...       5  \n",
       "...                                                 ...     ...  \n",
       "2052  I’ve been using chat and have been a proud pre...       5  \n",
       "2053  The ChatGPT iOS app is an outstanding product....       5  \n",
       "2055  So I like to role-play on this app because of ...       5  \n",
       "2056  I’m so grateful that they finally added iPad c...       5  \n",
       "2057  I have never written a review about an app bef...       5  \n",
       "\n",
       "[1077 rows x 4 columns]"
      ]
     },
     "execution_count": 12,
     "metadata": {},
     "output_type": "execute_result"
    }
   ],
   "source": [
    "# Option 1\n",
    "high_rating_filter = reviews_df[reviews_df['rating'] > 4]\n",
    "high_rating_filter"
   ]
  },
  {
   "cell_type": "code",
   "execution_count": 6,
   "metadata": {},
   "outputs": [
    {
     "data": {
      "text/html": [
       "<div>\n",
       "<style scoped>\n",
       "    .dataframe tbody tr th:only-of-type {\n",
       "        vertical-align: middle;\n",
       "    }\n",
       "\n",
       "    .dataframe tbody tr th {\n",
       "        vertical-align: top;\n",
       "    }\n",
       "\n",
       "    .dataframe thead th {\n",
       "        text-align: right;\n",
       "    }\n",
       "</style>\n",
       "<table border=\"1\" class=\"dataframe\">\n",
       "  <thead>\n",
       "    <tr style=\"text-align: right;\">\n",
       "      <th></th>\n",
       "      <th>date</th>\n",
       "      <th>title</th>\n",
       "      <th>review</th>\n",
       "      <th>rating</th>\n",
       "    </tr>\n",
       "  </thead>\n",
       "  <tbody>\n",
       "    <tr>\n",
       "      <th>7</th>\n",
       "      <td>2023-05-18 21:10:34</td>\n",
       "      <td>Nice and quick!</td>\n",
       "      <td>On this app, as opposed to on the website, it ...</td>\n",
       "      <td>5</td>\n",
       "    </tr>\n",
       "    <tr>\n",
       "      <th>8</th>\n",
       "      <td>2023-06-15 15:39:10</td>\n",
       "      <td>The app of all apps for AI</td>\n",
       "      <td>There’s been times of apps touting they are ch...</td>\n",
       "      <td>5</td>\n",
       "    </tr>\n",
       "    <tr>\n",
       "      <th>9</th>\n",
       "      <td>2023-06-08 16:49:52</td>\n",
       "      <td>A no-brainer</td>\n",
       "      <td>This is the beginning of the future of how we ...</td>\n",
       "      <td>5</td>\n",
       "    </tr>\n",
       "    <tr>\n",
       "      <th>10</th>\n",
       "      <td>2023-06-13 15:25:35</td>\n",
       "      <td>Grateful this AI isn’t an actual Hologram or r...</td>\n",
       "      <td>I couldn’t resist and finally downloaded this ...</td>\n",
       "      <td>5</td>\n",
       "    </tr>\n",
       "    <tr>\n",
       "      <th>12</th>\n",
       "      <td>2023-05-18 17:57:57</td>\n",
       "      <td>OpenAI iOS App Review</td>\n",
       "      <td>The OpenAI iOS App is a fantastic tool for any...</td>\n",
       "      <td>5</td>\n",
       "    </tr>\n",
       "    <tr>\n",
       "      <th>...</th>\n",
       "      <td>...</td>\n",
       "      <td>...</td>\n",
       "      <td>...</td>\n",
       "      <td>...</td>\n",
       "    </tr>\n",
       "    <tr>\n",
       "      <th>2052</th>\n",
       "      <td>2023-05-18 19:13:28</td>\n",
       "      <td>Superb AI</td>\n",
       "      <td>I’ve been using chat and have been a proud pre...</td>\n",
       "      <td>5</td>\n",
       "    </tr>\n",
       "    <tr>\n",
       "      <th>2053</th>\n",
       "      <td>2023-05-18 18:27:04</td>\n",
       "      <td>Fantastic App with Room for Enhancements</td>\n",
       "      <td>The ChatGPT iOS app is an outstanding product....</td>\n",
       "      <td>5</td>\n",
       "    </tr>\n",
       "    <tr>\n",
       "      <th>2055</th>\n",
       "      <td>2023-06-25 04:55:57</td>\n",
       "      <td>Legit amazing</td>\n",
       "      <td>So I like to role-play on this app because of ...</td>\n",
       "      <td>5</td>\n",
       "    </tr>\n",
       "    <tr>\n",
       "      <th>2056</th>\n",
       "      <td>2023-06-25 04:20:59</td>\n",
       "      <td>Amazing!!</td>\n",
       "      <td>I’m so grateful that they finally added iPad c...</td>\n",
       "      <td>5</td>\n",
       "    </tr>\n",
       "    <tr>\n",
       "      <th>2057</th>\n",
       "      <td>2023-06-25 03:12:37</td>\n",
       "      <td>An absolute life saver</td>\n",
       "      <td>I have never written a review about an app bef...</td>\n",
       "      <td>5</td>\n",
       "    </tr>\n",
       "  </tbody>\n",
       "</table>\n",
       "<p>1077 rows × 4 columns</p>\n",
       "</div>"
      ],
      "text/plain": [
       "                     date                                              title  \\\n",
       "7     2023-05-18 21:10:34                                    Nice and quick!   \n",
       "8     2023-06-15 15:39:10                         The app of all apps for AI   \n",
       "9     2023-06-08 16:49:52                                       A no-brainer   \n",
       "10    2023-06-13 15:25:35  Grateful this AI isn’t an actual Hologram or r...   \n",
       "12    2023-05-18 17:57:57                              OpenAI iOS App Review   \n",
       "...                   ...                                                ...   \n",
       "2052  2023-05-18 19:13:28                                          Superb AI   \n",
       "2053  2023-05-18 18:27:04           Fantastic App with Room for Enhancements   \n",
       "2055  2023-06-25 04:55:57                                      Legit amazing   \n",
       "2056  2023-06-25 04:20:59                                          Amazing!!   \n",
       "2057  2023-06-25 03:12:37                             An absolute life saver   \n",
       "\n",
       "                                                 review  rating  \n",
       "7     On this app, as opposed to on the website, it ...       5  \n",
       "8     There’s been times of apps touting they are ch...       5  \n",
       "9     This is the beginning of the future of how we ...       5  \n",
       "10    I couldn’t resist and finally downloaded this ...       5  \n",
       "12    The OpenAI iOS App is a fantastic tool for any...       5  \n",
       "...                                                 ...     ...  \n",
       "2052  I’ve been using chat and have been a proud pre...       5  \n",
       "2053  The ChatGPT iOS app is an outstanding product....       5  \n",
       "2055  So I like to role-play on this app because of ...       5  \n",
       "2056  I’m so grateful that they finally added iPad c...       5  \n",
       "2057  I have never written a review about an app bef...       5  \n",
       "\n",
       "[1077 rows x 4 columns]"
      ]
     },
     "execution_count": 6,
     "metadata": {},
     "output_type": "execute_result"
    }
   ],
   "source": [
    "# Option 2\n",
    "specific_value = reviews_df.query ('rating > 4')\n",
    "specific_value"
   ]
  }
 ],
 "metadata": {
  "kernelspec": {
   "display_name": "Python 3 (ipykernel)",
   "language": "python",
   "name": "python3"
  },
  "language_info": {
   "codemirror_mode": {
    "name": "ipython",
    "version": 3
   },
   "file_extension": ".py",
   "mimetype": "text/x-python",
   "name": "python",
   "nbconvert_exporter": "python",
   "pygments_lexer": "ipython3",
   "version": "3.9.7"
  }
 },
 "nbformat": 4,
 "nbformat_minor": 2
}
